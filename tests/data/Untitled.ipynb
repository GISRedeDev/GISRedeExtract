{
 "cells": [
  {
   "cell_type": "code",
   "execution_count": 1,
   "id": "11f7bd62",
   "metadata": {},
   "outputs": [],
   "source": [
    "import rasterio\n",
    "import geopandas as gpd\n",
    "import gdal\n",
    "\n",
    "glob_raster = 'global_test.tif'\n",
    "template = 'template.tif'\n"
   ]
  },
  {
   "cell_type": "code",
   "execution_count": 4,
   "id": "d3a6a197",
   "metadata": {},
   "outputs": [
    {
     "data": {
      "text/plain": [
       "<osgeo.gdal.Dataset; proxy of <Swig Object of type 'GDALDatasetShadow *' at 0x000002B1DD90A5D0> >"
      ]
     },
     "execution_count": 4,
     "metadata": {},
     "output_type": "execute_result"
    }
   ],
   "source": [
    "gdal.Warp('TEST_WARP.tif', \n",
    "          glob_raster, \n",
    "          outputBounds=(-61.37791824399994, 15.233859779000186, -61.345419543999945, 15.270524979000186),\n",
    "          width=39,\n",
    "          height=44,\n",
    "          resampleAlg='bilinear'\n",
    "         )\n"
   ]
  },
  {
   "cell_type": "code",
   "execution_count": 2,
   "id": "307c067c",
   "metadata": {},
   "outputs": [
    {
     "name": "stdout",
     "output_type": "stream",
     "text": [
      "Driver: GTiff/GeoTIFF\n",
      "Files: TEST_EXTRACT.tif\n",
      "       TEST_EXTRACT.tif.aux.xml\n",
      "Size is 39, 44\n",
      "Coordinate System is:\n",
      "GEOGCRS[\"WGS 84\",\n",
      "    DATUM[\"World Geodetic System 1984\",\n",
      "        ELLIPSOID[\"WGS 84\",6378137,298.257223563,\n",
      "            LENGTHUNIT[\"metre\",1]]],\n",
      "    PRIMEM[\"Greenwich\",0,\n",
      "        ANGLEUNIT[\"degree\",0.0174532925199433]],\n",
      "    CS[ellipsoidal,2],\n",
      "        AXIS[\"geodetic latitude (Lat)\",north,\n",
      "            ORDER[1],\n",
      "            ANGLEUNIT[\"degree\",0.0174532925199433]],\n",
      "        AXIS[\"geodetic longitude (Lon)\",east,\n",
      "            ORDER[2],\n",
      "            ANGLEUNIT[\"degree\",0.0174532925199433]],\n",
      "    USAGE[\n",
      "        SCOPE[\"unknown\"],\n",
      "        AREA[\"World\"],\n",
      "        BBOX[-90,-180,90,180]],\n",
      "    ID[\"EPSG\",4326]]\n",
      "Data axis to CRS axis mapping: 2,1\n",
      "Origin = (-61.377918243999943,15.270524979000186)\n",
      "Pixel Size = (0.000833300000000,-0.000833300000000)\n",
      "Metadata:\n",
      "  AREA_OR_POINT=Area\n",
      "Image Structure Metadata:\n",
      "  COMPRESSION=LZW\n",
      "  INTERLEAVE=BAND\n",
      "Corner Coordinates:\n",
      "Upper Left  ( -61.3779182,  15.2705250) ( 61d22'40.51\"W, 15d16'13.89\"N)\n",
      "Lower Left  ( -61.3779182,  15.2338598) ( 61d22'40.51\"W, 15d14' 1.90\"N)\n",
      "Upper Right ( -61.3454195,  15.2705250) ( 61d20'43.51\"W, 15d16'13.89\"N)\n",
      "Lower Right ( -61.3454195,  15.2338598) ( 61d20'43.51\"W, 15d14' 1.90\"N)\n",
      "Center      ( -61.3616689,  15.2521924) ( 61d21'42.01\"W, 15d15' 7.89\"N)\n",
      "Band 1 Block=512x512 Type=Float32, ColorInterp=Gray\n",
      "  Min=1870.018 Max=1912.000 \n",
      "  Minimum=1870.018, Maximum=1912.000, Mean=1893.638, StdDev=10.252\n",
      "  NoData Value=-99999\n",
      "  Metadata:\n",
      "    STATISTICS_MAXIMUM=1912\n",
      "    STATISTICS_MEAN=1893.6384344021\n",
      "    STATISTICS_MINIMUM=1870.017578125\n",
      "    STATISTICS_STDDEV=10.252374918391\n",
      "    STATISTICS_VALID_PERCENT=55.48\n"
     ]
    }
   ],
   "source": [
    "!gdalinfo TEST_EXTRACT.tif"
   ]
  }
 ],
 "metadata": {
  "kernelspec": {
   "display_name": "Python 3 (ipykernel)",
   "language": "python",
   "name": "python3"
  },
  "language_info": {
   "codemirror_mode": {
    "name": "ipython",
    "version": 3
   },
   "file_extension": ".py",
   "mimetype": "text/x-python",
   "name": "python",
   "nbconvert_exporter": "python",
   "pygments_lexer": "ipython3",
   "version": "3.8.13"
  }
 },
 "nbformat": 4,
 "nbformat_minor": 5
}
